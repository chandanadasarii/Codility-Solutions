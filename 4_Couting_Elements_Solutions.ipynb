{
  "nbformat": 4,
  "nbformat_minor": 0,
  "metadata": {
    "colab": {
      "name": "4.Couting Elements Solutions.ipynb",
      "version": "0.3.2",
      "provenance": [],
      "include_colab_link": true
    },
    "kernelspec": {
      "name": "python2",
      "display_name": "Python 2"
    }
  },
  "cells": [
    {
      "cell_type": "markdown",
      "metadata": {
        "id": "view-in-github",
        "colab_type": "text"
      },
      "source": [
        "<a href=\"https://colab.research.google.com/github/chandanadasarii/Codility-Solutions/blob/master/4_Couting_Elements_Solutions.ipynb\" target=\"_parent\"><img src=\"https://colab.research.google.com/assets/colab-badge.svg\" alt=\"Open In Colab\"/></a>"
      ]
    },
    {
      "metadata": {
        "id": "2oH0Tycibj4f",
        "colab_type": "text"
      },
      "cell_type": "markdown",
      "source": [
        "# Perm Check\n",
        "A non-empty array A consisting of N integers is given.\n",
        "\n",
        "A permutation is a sequence containing each element from 1 to N once, and only once.\n",
        "\n",
        "For example, array A such that:\n",
        "\n",
        "    A[0] = 4\n",
        "    A[1] = 1\n",
        "    A[2] = 3\n",
        "    A[3] = 2\n",
        "is a permutation, but array A such that:\n",
        "\n",
        "    A[0] = 4\n",
        "    A[1] = 1\n",
        "    A[2] = 3\n",
        "is not a permutation, because value 2 is missing.\n",
        "\n",
        "The goal is to check whether array A is a permutation.\n",
        "\n",
        "Write a function:\n",
        "\n",
        "def solution(A)\n",
        "\n",
        "that, given an array A, returns 1 if array A is a permutation and 0 if it is not.\n",
        "\n",
        "For example, given array A such that:\n",
        "\n",
        "    A[0] = 4\n",
        "    A[1] = 1\n",
        "    A[2] = 3\n",
        "    A[3] = 2\n",
        "the function should return 1.\n",
        "\n",
        "Given array A such that:\n",
        "\n",
        "    A[0] = 4\n",
        "    A[1] = 1\n",
        "    A[2] = 3\n",
        "the function should return 0.\n",
        "\n",
        "Write an efficient algorithm for the following assumptions:\n",
        "\n",
        "N is an integer within the range [1..100,000];\n",
        "each element of array A is an integer within the range [1..1,000,000,000]."
      ]
    },
    {
      "metadata": {
        "id": "J_SfJVoVbo0i",
        "colab_type": "code",
        "outputId": "042a3270-041a-456b-8a25-36bcb6d1eb96",
        "colab": {
          "base_uri": "https://localhost:8080/",
          "height": 52
        }
      },
      "cell_type": "code",
      "source": [
        "def PermCheck(A):\n",
        "    seq={}\n",
        "    n = len(A)\n",
        "    for i in A:\n",
        "        if(i in seq):\n",
        "            return 0\n",
        "        else:\n",
        "            seq[i]=True\n",
        "    if(n !=len(seq)):\n",
        "        return 0 \n",
        "    if (sum(A)== (n*(n+1)/2)):# Sum of 'n' integers from 1,2,....,n\n",
        "        return 1\n",
        "    else:\n",
        "        return 0\n",
        "\n",
        "#Testcase:\n",
        "\n",
        "print(PermCheck([4,3,2,1]))\n",
        "print(PermCheck([4,2,1]))\n",
        "        "
      ],
      "execution_count": 0,
      "outputs": [
        {
          "output_type": "stream",
          "text": [
            "1\n",
            "0\n"
          ],
          "name": "stdout"
        }
      ]
    },
    {
      "metadata": {
        "id": "L3yYDPxXovHJ",
        "colab_type": "text"
      },
      "cell_type": "markdown",
      "source": [
        "#FrogReverOne\n",
        "A small frog wants to get to the other side of a river. The frog is initially located on one bank of the river (position 0) and wants to get to the opposite bank (position X+1). Leaves fall from a tree onto the surface of the river.\n",
        "\n",
        "You are given an array A consisting of N integers representing the falling leaves. A[K] represents the position where one leaf falls at time K, measured in seconds.\n",
        "\n",
        "The goal is to find the earliest time when the frog can jump to the other side of the river. The frog can cross only when leaves appear at every position across the river from 1 to X (that is, we want to find the earliest moment when all the positions from 1 to X are covered by leaves). You may assume that the speed of the current in the river is negligibly small, i.e. the leaves do not change their positions once they fall in the river.\n",
        "\n",
        "For example, you are given integer X = 5 and array A such that:\n",
        "\n",
        "  A[0] = 1\n",
        "  A[1] = 3\n",
        "  A[2] = 1\n",
        "  A[3] = 4\n",
        "  A[4] = 2\n",
        "  A[5] = 3\n",
        "  A[6] = 5\n",
        "  A[7] = 4\n",
        "In second 6, a leaf falls into position 5. This is the earliest time when leaves appear in every position across the river.\n",
        "\n",
        "Write a function:\n",
        "\n",
        "def solution(X, A)\n",
        "\n",
        "that, given a non-empty array A consisting of N integers and integer X, returns the earliest time when the frog can jump to the other side of the river.\n",
        "\n",
        "If the frog is never able to jump to the other side of the river, the function should return −1.\n",
        "\n",
        "For example, given X = 5 and array A such that:\n",
        "\n",
        "  A[0] = 1\n",
        "  A[1] = 3\n",
        "  A[2] = 1\n",
        "  A[3] = 4\n",
        "  A[4] = 2\n",
        "  A[5] = 3\n",
        "  A[6] = 5\n",
        "  A[7] = 4\n",
        "the function should return 6, as explained above.\n",
        "\n",
        "Write an efficient algorithm for the following assumptions:\n",
        "\n",
        "N and X are integers within the range [1..100,000];\n",
        "each element of array A is an integer within the range [1..X]."
      ]
    },
    {
      "metadata": {
        "id": "bQtOi8SkbV-0",
        "colab_type": "code",
        "outputId": "4e4f7596-f283-4757-d465-b13fe5be5151",
        "colab": {
          "base_uri": "https://localhost:8080/",
          "height": 105
        }
      },
      "cell_type": "code",
      "source": [
        "def frogRever(X, A):\n",
        "    seq = {}\n",
        "    for i, a in enumerate(A):\n",
        "        if a in seq:\n",
        "            continue\n",
        "        else:\n",
        "            seq[a] = True\n",
        "        if len(seq) == X:\n",
        "            return i\n",
        "\n",
        "    if len(seq) < X:\n",
        "        return -1\n",
        "#Testcases\n",
        "\n",
        "print(frogRever(5,[3,2,1,4,5,2]))\n",
        "print(frogRever(5,[3,2,1,4,2]))\n",
        "print(frogRever(5,[3,2,1,4,2,2,2,2,3,3,3,3,5]))\n",
        "print(frogRever(1,[1,1,1]))\n",
        "print(frogRever(2,[2,1]))"
      ],
      "execution_count": 0,
      "outputs": [
        {
          "output_type": "stream",
          "text": [
            "4\n",
            "-1\n",
            "12\n",
            "0\n",
            "1\n"
          ],
          "name": "stdout"
        }
      ]
    },
    {
      "metadata": {
        "id": "AuINmKNpMyYE",
        "colab_type": "text"
      },
      "cell_type": "markdown",
      "source": [
        "# Missing Integer\n",
        "\n",
        "Write a function:\n",
        "\n",
        "def solution(A)\n",
        "\n",
        "that, given an array A of N integers, returns the smallest positive integer (greater than 0) that does not occur in A.\n",
        "\n",
        "For example, given A = [1, 3, 6, 4, 1, 2], the function should return 5.\n",
        "\n",
        "Given A = [1, 2, 3], the function should return 4.\n",
        "\n",
        "Given A = [−1, −3], the function should return 1.\n",
        "\n",
        "Write an efficient algorithm for the following assumptions:\n",
        "\n",
        "N is an integer within the range [1..100,000];\n",
        "each element of array A is an integer within the range [−1,000,000..1,000,000].\n"
      ]
    },
    {
      "metadata": {
        "id": "5CYJYyjwNIUN",
        "colab_type": "code",
        "colab": {
          "base_uri": "https://localhost:8080/",
          "height": 34
        },
        "outputId": "3f75f9f9-f00b-46e2-8335-d1102d938b75"
      },
      "cell_type": "code",
      "source": [
        "def MissingInt(A):\n",
        "    seq = {}\n",
        "\n",
        "    if len(A) == 1 and A[0] == 1:\n",
        "        return 2\n",
        "    elif len(A) == 1:\n",
        "        return 1\n",
        "\n",
        "    for i, a in enumerate(A):\n",
        "        if a < 0:\n",
        "            return 1\n",
        "        if a in seq:\n",
        "            continue\n",
        "        else:\n",
        "            seq[a] = True\n",
        "\n",
        "    for j in range(1, len(A)):\n",
        "        if j not in seq:\n",
        "            return j\n",
        "\n",
        "    return len(A) + 1\n",
        "  \n",
        "print(MissingInt([1,3,6,4,1,2]))\n",
        "  \n"
      ],
      "execution_count": 1,
      "outputs": [
        {
          "output_type": "stream",
          "text": [
            "5\n"
          ],
          "name": "stdout"
        }
      ]
    },
    {
      "metadata": {
        "id": "0feL-Hy6a7E9",
        "colab_type": "text"
      },
      "cell_type": "markdown",
      "source": [
        "#Max Counters\n",
        "\n",
        "You are given N counters, initially set to 0, and you have two possible operations on them:\n",
        "\n",
        "increase(X) − counter X is increased by 1,\n",
        "max counter − all counters are set to the maximum value of any counter.\n",
        "A non-empty array A of M integers is given. This array represents consecutive operations:\n",
        "\n",
        "if A[K] = X, such that 1 ≤ X ≤ N, then operation K is increase(X),\n",
        "if A[K] = N + 1 then operation K is max counter.\n",
        "For example, given integer N = 5 and array A such that:\n",
        "\n",
        "    A[0] = 3\n",
        "    A[1] = 4\n",
        "    A[2] = 4\n",
        "    A[3] = 6\n",
        "    A[4] = 1\n",
        "    A[5] = 4\n",
        "    A[6] = 4\n",
        "the values of the counters after each consecutive operation will be:\n",
        "\n",
        "    (0, 0, 1, 0, 0)\n",
        "    (0, 0, 1, 1, 0)\n",
        "    (0, 0, 1, 2, 0)\n",
        "    (2, 2, 2, 2, 2)\n",
        "    (3, 2, 2, 2, 2)\n",
        "    (3, 2, 2, 3, 2)\n",
        "    (3, 2, 2, 4, 2)\n",
        "The goal is to calculate the value of every counter after all operations.\n",
        "\n",
        "Write a function:\n",
        "\n",
        "def solution(N, A)\n",
        "\n",
        "that, given an integer N and a non-empty array A consisting of M integers, returns a sequence of integers representing the values of the counters.\n",
        "\n",
        "Result array should be returned as an array of integers.\n",
        "\n",
        "For example, given:\n",
        "\n",
        "    A[0] = 3\n",
        "    A[1] = 4\n",
        "    A[2] = 4\n",
        "    A[3] = 6\n",
        "    A[4] = 1\n",
        "    A[5] = 4\n",
        "    A[6] = 4\n",
        "the function should return [3, 2, 2, 4, 2], as explained above.\n",
        "\n",
        "Write an efficient algorithm for the following assumptions:\n",
        "\n",
        "N and M are integers within the range [1..100,000];\n",
        "each element of array A is an integer within the range [1..N + 1]."
      ]
    },
    {
      "metadata": {
        "id": "osDpECJWa3ER",
        "colab_type": "code",
        "colab": {
          "base_uri": "https://localhost:8080/",
          "height": 34
        },
        "outputId": "e7d0e9c9-4ff7-4041-aea0-1056d4b64bf5"
      },
      "cell_type": "code",
      "source": [
        "def MaxCounters(N, A):\n",
        "    counts = [0] * N\n",
        "    Max_Val = 0\n",
        "    for i,a in enumerate(A):\n",
        "        if (a >= 1 and a <= N):\n",
        "            counts[a-1] += 1\n",
        "            if counts[a-1] > Max_Val:\n",
        "                Max_Val = counts[a-1]\n",
        "        else:\n",
        "            counts = [Max_Val] * N\n",
        "\n",
        "    return counts\n",
        "  \n",
        "print(MaxCounters(5,[3,4,4,6,1,4,4]))"
      ],
      "execution_count": 2,
      "outputs": [
        {
          "output_type": "stream",
          "text": [
            "[3, 2, 2, 4, 2]\n"
          ],
          "name": "stdout"
        }
      ]
    }
  ]
}