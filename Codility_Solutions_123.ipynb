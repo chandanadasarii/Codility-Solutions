{
  "nbformat": 4,
  "nbformat_minor": 0,
  "metadata": {
    "colab": {
      "name": "Codility_Solutions_123.ipynb",
      "version": "0.3.2",
      "provenance": [],
      "include_colab_link": true
    },
    "kernelspec": {
      "name": "python2",
      "display_name": "Python 2"
    }
  },
  "cells": [
    {
      "cell_type": "markdown",
      "metadata": {
        "id": "view-in-github",
        "colab_type": "text"
      },
      "source": [
        "<a href=\"https://colab.research.google.com/github/chandanadasarii/Codility-Solutions/blob/master/Codility_Solutions_123.ipynb\" target=\"_parent\"><img src=\"https://colab.research.google.com/assets/colab-badge.svg\" alt=\"Open In Colab\"/></a>"
      ]
    },
    {
      "metadata": {
        "id": "v4rFPxoCX1S6",
        "colab_type": "text"
      },
      "cell_type": "markdown",
      "source": [
        "100% solutions to the Codility exercises Lesson 1,2,3\n",
        "\n"
      ]
    },
    {
      "metadata": {
        "id": "gDlwFELFv5Lm",
        "colab_type": "text"
      },
      "cell_type": "markdown",
      "source": [
        "#Binary Gap\n",
        "A binary gap within a positive integer N is any maximal sequence of consecutive zeros that is surrounded by ones at both ends in the binary representation of N.\n",
        "\n",
        "For example, number 9 has binary representation 1001 and contains a binary gap of length 2. The number 529 has binary representation 1000010001 and contains two binary gaps: one of length 4 and one of length 3. The number 20 has binary representation 10100 and contains one binary gap of length 1. The number 15 has binary representation 1111 and has no binary gaps. The number 32 has binary representation 100000 and has no binary gaps.\n",
        "\n",
        "Write a function:\n",
        "\n",
        "def solution(N)\n",
        "\n",
        "that, given a positive integer N, returns the length of its longest binary gap. The function should return 0 if N doesn't contain a binary gap.\n",
        "\n",
        "For example, given N = 1041 the function should return 5, because N has binary representation 10000010001 and so its longest binary gap is of length 5. Given N = 32 the function should return 0, because N has binary representation '100000' and thus no binary gaps.\n",
        "\n",
        "Write an efficient algorithm for the following assumptions:\n",
        "\n",
        "N is an integer within the range [1..2,147,483,647]."
      ]
    },
    {
      "metadata": {
        "id": "D4vIq1flwD05",
        "colab_type": "code",
        "outputId": "5a7477b8-d265-4586-8ff2-fb4c9315301f",
        "colab": {
          "base_uri": "https://localhost:8080/",
          "height": 34
        }
      },
      "cell_type": "code",
      "source": [
        "def binary_gap(N):\n",
        "    return len(max(format(N, 'b').strip('0').split('1')))\n",
        "\n",
        "print(binary_gap(17))"
      ],
      "execution_count": 0,
      "outputs": [
        {
          "output_type": "stream",
          "text": [
            "3\n"
          ],
          "name": "stdout"
        }
      ]
    },
    {
      "metadata": {
        "id": "k39yToYjr0RH",
        "colab_type": "text"
      },
      "cell_type": "markdown",
      "source": [
        "# Odd occurances in Array\n",
        "A non-empty array A consisting of N integers is given. The array contains an odd number of elements, and each element of the array can be paired with another element that has the same value, except for one element that is left unpaired.\n",
        "\n",
        "For example, in array A such that:\n",
        "\n",
        "  A[0] = 9  A[1] = 3  A[2] = 9\n",
        "  A[3] = 3  A[4] = 9  A[5] = 7\n",
        "  A[6] = 9\n",
        "the elements at indexes 0 and 2 have value 9,\n",
        "the elements at indexes 1 and 3 have value 3,\n",
        "the elements at indexes 4 and 6 have value 9,\n",
        "the element at index 5 has value 7 and is unpaired.\n",
        "Write a function:\n",
        "\n",
        "def solution(A)\n",
        "\n",
        "that, given an array A consisting of N integers fulfilling the above conditions, returns the value of the unpaired element.\n",
        "\n",
        "For example, given array A such that:\n",
        "\n",
        "  A[0] = 9  A[1] = 3  A[2] = 9\n",
        "  A[3] = 3  A[4] = 9  A[5] = 7\n",
        "  A[6] = 9\n",
        "the function should return 7, as explained in the example above.\n",
        "\n",
        "Write an efficient algorithm for the following assumptions:\n",
        "\n",
        "N is an odd integer within the range [1..1,000,000];\n",
        "each element of array A is an integer within the range [1..1,000,000,000];\n",
        "all but one of the values in A occur an even number of times."
      ]
    },
    {
      "metadata": {
        "id": "Dw4Tx2z-sBFr",
        "colab_type": "code",
        "outputId": "7530b253-626a-4a93-b71c-ea98921e36be",
        "colab": {
          "base_uri": "https://localhost:8080/",
          "height": 34
        }
      },
      "cell_type": "code",
      "source": [
        "def solution2_1(A):\n",
        "  result = 0\n",
        "  for i in A:\n",
        "    result^=i\n",
        "  return result\n",
        "\n",
        "solution2_1([2,4,7,8,8,9,2,7,4])\n",
        "  "
      ],
      "execution_count": 0,
      "outputs": [
        {
          "output_type": "execute_result",
          "data": {
            "text/plain": [
              "9"
            ]
          },
          "metadata": {
            "tags": []
          },
          "execution_count": 3
        }
      ]
    },
    {
      "metadata": {
        "id": "hi3ETNOBs1n9",
        "colab_type": "text"
      },
      "cell_type": "markdown",
      "source": [
        "#Cyclic Rotation\n",
        "\n",
        "An array A consisting of N integers is given. Rotation of the array means that each element is shifted right by one index, and the last element of the array is moved to the first place. For example, the rotation of array A = [3, 8, 9, 7, 6] is [6, 3, 8, 9, 7] (elements are shifted right by one index and 6 is moved to the first place).\n",
        "\n",
        "The goal is to rotate array A K times; that is, each element of A will be shifted to the right K times.\n",
        "\n",
        "Write a function:\n",
        "\n",
        "def solution(A, K)\n",
        "\n",
        "that, given an array A consisting of N integers and an integer K, returns the array A rotated K times.\n",
        "\n",
        "For example, given\n",
        "\n",
        "    A = [3, 8, 9, 7, 6]\n",
        "    K = 3\n",
        "the function should return [9, 7, 6, 3, 8]. Three rotations were made:\n",
        "\n",
        "    [3, 8, 9, 7, 6] -> [6, 3, 8, 9, 7]\n",
        "    [6, 3, 8, 9, 7] -> [7, 6, 3, 8, 9]\n",
        "    [7, 6, 3, 8, 9] -> [9, 7, 6, 3, 8]\n",
        "For another example, given\n",
        "\n",
        "    A = [0, 0, 0]\n",
        "    K = 1\n",
        "the function should return [0, 0, 0]\n",
        "\n",
        "Given\n",
        "\n",
        "    A = [1, 2, 3, 4]\n",
        "    K = 4\n",
        "the function should return [1, 2, 3, 4]\n",
        "\n",
        "Assume that:\n",
        "\n",
        "N and K are integers within the range [0..100];\n",
        "each element of array A is an integer within the range [−1,000..1,000].\n",
        "In your solution, focus on correctness. The performance of your solution will not be the focus of the assessment."
      ]
    },
    {
      "metadata": {
        "id": "F8bFI88Hthe4",
        "colab_type": "code",
        "outputId": "eaec9c18-e10e-464f-e38f-a50dc2695442",
        "colab": {
          "base_uri": "https://localhost:8080/",
          "height": 34
        }
      },
      "cell_type": "code",
      "source": [
        "def solution2_2(A, K):\n",
        "    if len(A) == 0:\n",
        "        return A\n",
        "    K = K % len(A)\n",
        "    return A[-K:] + A[:-K]\n",
        "\n",
        "solution2_1([3,8,9,7,6],3)"
      ],
      "execution_count": 0,
      "outputs": [
        {
          "output_type": "execute_result",
          "data": {
            "text/plain": [
              "[9, 7, 6, 3, 8]"
            ]
          },
          "metadata": {
            "tags": []
          },
          "execution_count": 2
        }
      ]
    },
    {
      "metadata": {
        "id": "H3SvRG-OrRA7",
        "colab_type": "text"
      },
      "cell_type": "markdown",
      "source": [
        "# Frog jumps\n",
        "A small frog wants to get to the other side of the road. The frog is currently located at position X and wants to get to a position greater than or equal to Y. The small frog always jumps a fixed distance, D.\n",
        "\n",
        "Count the minimal number of jumps that the small frog must perform to reach its target.\n",
        "\n",
        "Write a function:\n",
        "\n",
        "def solution(X, Y, D)\n",
        "\n",
        "that, given three integers X, Y and D, returns the minimal number of jumps from position X to a position equal to or greater than Y.\n",
        "\n",
        "For example, given:\n",
        "\n",
        "  X = 10\n",
        "  Y = 85\n",
        "  D = 30\n",
        "the function should return 3, because the frog will be positioned as follows:\n",
        "\n",
        "after the first jump, at position 10 + 30 = 40\n",
        "after the second jump, at position 10 + 30 + 30 = 70\n",
        "after the third jump, at position 10 + 30 + 30 + 30 = 100\n",
        "Write an efficient algorithm for the following assumptions:\n",
        "\n",
        "X, Y and D are integers within the range [1..1,000,000,000];\n",
        "X ≤ Y."
      ]
    },
    {
      "metadata": {
        "id": "bSW_JVInrEAq",
        "colab_type": "code",
        "outputId": "df80917a-3c79-422d-faaf-6ef820f942e3",
        "colab": {
          "base_uri": "https://localhost:8080/",
          "height": 34
        }
      },
      "cell_type": "code",
      "source": [
        "import math\n",
        "def solution3_1(X, Y, D):\n",
        "    jumps= (Y-X)/D\n",
        "    jumps= math.ceil(jumps)\n",
        "    return jumps\n",
        "\n",
        "solution3_1(10,85,30)"
      ],
      "execution_count": 1,
      "outputs": [
        {
          "output_type": "execute_result",
          "data": {
            "text/plain": [
              "2.0"
            ]
          },
          "metadata": {
            "tags": []
          },
          "execution_count": 1
        }
      ]
    },
    {
      "metadata": {
        "id": "_GYkLBVzSO5M",
        "colab_type": "text"
      },
      "cell_type": "markdown",
      "source": [
        "#PermMissing element\n",
        "An array A consisting of N different integers is given. The array contains integers in the range [1..(N + 1)], which means that exactly one element is missing.\n",
        "\n",
        "Your goal is to find that missing element.\n",
        "\n",
        "Write a function:\n",
        "\n",
        "def solution(A)\n",
        "\n",
        "that, given an array A, returns the value of the missing element.\n",
        "\n",
        "For example, given array A such that:\n",
        "\n",
        "  A[0] = 2\n",
        "  A[1] = 3\n",
        "  A[2] = 1\n",
        "  A[3] = 5\n",
        "the function should return 4, as it is the missing element.\n",
        "\n",
        "Write an efficient algorithm for the following assumptions:\n",
        "\n",
        "N is an integer within the range [0..100,000];\n",
        "the elements of A are all distinct;\n",
        "each element of array A is an integer within the range [1..(N + 1)]."
      ]
    },
    {
      "metadata": {
        "id": "1wr2lZw1rB8j",
        "colab_type": "code",
        "colab": {
          "base_uri": "https://localhost:8080/",
          "height": 34
        },
        "outputId": "f8d1b4e6-b865-493a-b8ae-8974bccecd8e"
      },
      "cell_type": "code",
      "source": [
        "def Solution3_2(A):\n",
        "  missing=1\n",
        "  for element in sorted(A):\n",
        "    if(element==missing):\n",
        "      missing+=1\n",
        "    if(element>missing):\n",
        "      break\n",
        "  return missing\n",
        "\n",
        "Solution3_2([2,3,4,1,6])"
      ],
      "execution_count": 2,
      "outputs": [
        {
          "output_type": "execute_result",
          "data": {
            "text/plain": [
              "5"
            ]
          },
          "metadata": {
            "tags": []
          },
          "execution_count": 2
        }
      ]
    },
    {
      "metadata": {
        "id": "dmab6CU1XDie",
        "colab_type": "text"
      },
      "cell_type": "markdown",
      "source": [
        "#Tape Equilibrium\n",
        "A non-empty array A consisting of N integers is given. Array A represents numbers on a tape.\n",
        "\n",
        "Any integer P, such that 0 < P < N, splits this tape into two non-empty parts: A[0], A[1], ..., A[P − 1] and A[P], A[P + 1], ..., A[N − 1].\n",
        "\n",
        "The difference between the two parts is the value of: |(A[0] + A[1] + ... + A[P − 1]) − (A[P] + A[P + 1] + ... + A[N − 1])|\n",
        "\n",
        "In other words, it is the absolute difference between the sum of the first part and the sum of the second part.\n",
        "\n",
        "For example, consider array A such that:\n",
        "\n",
        "  A[0] = 3\n",
        "  A[1] = 1\n",
        "  A[2] = 2\n",
        "  A[3] = 4\n",
        "  A[4] = 3\n",
        "We can split this tape in four places:\n",
        "\n",
        "P = 1, difference = |3 − 10| = 7 \n",
        "P = 2, difference = |4 − 9| = 5 \n",
        "P = 3, difference = |6 − 7| = 1 \n",
        "P = 4, difference = |10 − 3| = 7 \n",
        "Write a function:\n",
        "\n",
        "def solution(A)\n",
        "\n",
        "that, given a non-empty array A of N integers, returns the minimal difference that can be achieved.\n",
        "\n",
        "For example, given:\n",
        "\n",
        "  A[0] = 3\n",
        "  A[1] = 1\n",
        "  A[2] = 2\n",
        "  A[3] = 4\n",
        "  A[4] = 3\n",
        "the function should return 1, as explained above.\n",
        "\n",
        "Write an efficient algorithm for the following assumptions:\n",
        "\n",
        "N is an integer within the range [2..100,000];\n",
        "each element of array A is an integer within the range [−1,000..1,000]."
      ]
    },
    {
      "metadata": {
        "id": "8zyqz0R-XCbx",
        "colab_type": "code",
        "colab": {
          "base_uri": "https://localhost:8080/",
          "height": 34
        },
        "outputId": "502f3daf-5f36-4c3a-c5a4-6f87a8d7a345"
      },
      "cell_type": "code",
      "source": [
        "def solution3_3(A):\n",
        "    best=None\n",
        "    before=0\n",
        "    after= sum(A)\n",
        "    for P in range(0,len(A)-1):\n",
        "        before +=A[P]\n",
        "        after -= A[P]\n",
        "        difference= abs(before-after)\n",
        "        if best is None or difference<best:\n",
        "            best=difference\n",
        "    return best\n",
        "\n",
        "solution3_3([3,1,2,4,3])"
      ],
      "execution_count": 5,
      "outputs": [
        {
          "output_type": "execute_result",
          "data": {
            "text/plain": [
              "1"
            ]
          },
          "metadata": {
            "tags": []
          },
          "execution_count": 5
        }
      ]
    }
  ]
}